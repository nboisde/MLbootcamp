{
 "cells": [
  {
   "cell_type": "code",
   "execution_count": 1,
   "metadata": {},
   "outputs": [],
   "source": [
    "import pandas as pd\n",
    "import numpy as np\n",
    "import matplotlib.pyplot as plt\n",
    "from zscore import zscore\n",
    "from minmax import minmax\n",
    "from mylinearregression import MyLinearRegression as MyLR\n",
    "from data_splitter import data_splitter\n",
    "from polynomial_model import add_polynomial_features"
   ]
  },
  {
   "cell_type": "code",
   "execution_count": 3,
   "id": "7ca3adcc",
   "metadata": {},
   "outputs": [
    {
     "data": {
      "text/html": [
       "<div>\n",
       "<style scoped>\n",
       "    .dataframe tbody tr th:only-of-type {\n",
       "        vertical-align: middle;\n",
       "    }\n",
       "\n",
       "    .dataframe tbody tr th {\n",
       "        vertical-align: top;\n",
       "    }\n",
       "\n",
       "    .dataframe thead th {\n",
       "        text-align: right;\n",
       "    }\n",
       "</style>\n",
       "<table border=\"1\" class=\"dataframe\">\n",
       "  <thead>\n",
       "    <tr style=\"text-align: right;\">\n",
       "      <th></th>\n",
       "      <th>Unnamed: 0</th>\n",
       "      <th>weight</th>\n",
       "      <th>prod_distance</th>\n",
       "      <th>time_delivery</th>\n",
       "      <th>target</th>\n",
       "    </tr>\n",
       "  </thead>\n",
       "  <tbody>\n",
       "    <tr>\n",
       "      <th>0</th>\n",
       "      <td>0</td>\n",
       "      <td>82.0</td>\n",
       "      <td>1467.0</td>\n",
       "      <td>5.0</td>\n",
       "      <td>798952.470207</td>\n",
       "    </tr>\n",
       "    <tr>\n",
       "      <th>1</th>\n",
       "      <td>1</td>\n",
       "      <td>28.0</td>\n",
       "      <td>2043.0</td>\n",
       "      <td>9.0</td>\n",
       "      <td>576947.962724</td>\n",
       "    </tr>\n",
       "    <tr>\n",
       "      <th>2</th>\n",
       "      <td>2</td>\n",
       "      <td>73.0</td>\n",
       "      <td>2416.0</td>\n",
       "      <td>7.0</td>\n",
       "      <td>720237.012328</td>\n",
       "    </tr>\n",
       "    <tr>\n",
       "      <th>3</th>\n",
       "      <td>3</td>\n",
       "      <td>55.0</td>\n",
       "      <td>2488.0</td>\n",
       "      <td>8.0</td>\n",
       "      <td>677671.772464</td>\n",
       "    </tr>\n",
       "    <tr>\n",
       "      <th>4</th>\n",
       "      <td>4</td>\n",
       "      <td>37.0</td>\n",
       "      <td>1335.0</td>\n",
       "      <td>3.0</td>\n",
       "      <td>675912.265367</td>\n",
       "    </tr>\n",
       "  </tbody>\n",
       "</table>\n",
       "</div>"
      ],
      "text/plain": [
       "   Unnamed: 0  weight  prod_distance  time_delivery         target\n",
       "0           0    82.0         1467.0            5.0  798952.470207\n",
       "1           1    28.0         2043.0            9.0  576947.962724\n",
       "2           2    73.0         2416.0            7.0  720237.012328\n",
       "3           3    55.0         2488.0            8.0  677671.772464\n",
       "4           4    37.0         1335.0            3.0  675912.265367"
      ]
     },
     "execution_count": 3,
     "metadata": {},
     "output_type": "execute_result"
    }
   ],
   "source": [
    "d = pd.read_csv(\"../space_avocado.csv\")\n",
    "d.head()"
   ]
  },
  {
   "cell_type": "code",
   "execution_count": 6,
   "id": "9ce1e202",
   "metadata": {},
   "outputs": [
    {
     "name": "stdout",
     "output_type": "stream",
     "text": [
      "X [[8.200e+01 1.467e+03 5.000e+00]\n",
      " [2.800e+01 2.043e+03 9.000e+00]\n",
      " [7.300e+01 2.416e+03 7.000e+00]\n",
      " ...\n",
      " [1.900e+01 2.471e+03 3.000e+00]\n",
      " [4.600e+01 1.731e+03 9.000e+00]\n",
      " [1.000e+00 1.783e+03 2.000e+00]]\n",
      "Y [[798952.47020694]\n",
      " [576947.96272441]\n",
      " [720237.0123281 ]\n",
      " ...\n",
      " [543466.83235214]\n",
      " [674279.55218247]\n",
      " [481293.89583362]]\n",
      "Xm [[2.75979557e-02 4.99488927e-01 1.36286201e-03]\n",
      " [9.19931857e-03 6.95741056e-01 2.72572402e-03]\n",
      " [2.45315162e-02 8.22827939e-01 2.04429302e-03]\n",
      " ...\n",
      " [6.13287905e-03 8.41567291e-01 6.81431005e-04]\n",
      " [1.53321976e-02 5.89437819e-01 2.72572402e-03]\n",
      " [0.00000000e+00 6.07155026e-01 3.40715503e-04]]\n",
      "Ym [[0.8860618 ]\n",
      " [0.3270917 ]\n",
      " [0.68786948]\n",
      " ...\n",
      " [0.24279183]\n",
      " [0.57215631]\n",
      " [0.08625081]]\n"
     ]
    }
   ],
   "source": [
    "X = np.array(d[['weight', 'prod_distance', 'time_delivery']])\n",
    "Y = np.array(d[['target']])\n",
    "Xm = minmax(X)\n",
    "Ym = minmax(Y)\n",
    "print(\"X\", X)\n",
    "print(\"Y\", Y)\n",
    "print(\"Xm\", Xm)\n",
    "print(\"Ym\", Ym)"
   ]
  },
  {
   "cell_type": "code",
   "execution_count": 8,
   "id": "76e51b61",
   "metadata": {},
   "outputs": [
    {
     "name": "stdout",
     "output_type": "stream",
     "text": [
      "[[2.75979557e-02 7.61647159e-04]\n",
      " [9.19931857e-03 8.46274621e-05]\n",
      " [2.45315162e-02 6.01795286e-04]\n",
      " ...\n",
      " [6.13287905e-03 3.76122054e-05]\n",
      " [1.53321976e-02 2.35076284e-04]\n",
      " [0.00000000e+00 0.00000000e+00]]\n",
      "[[0.49948893 0.24948919 0.12461709]\n",
      " [0.69574106 0.48405562 0.33677737]\n",
      " [0.82282794 0.67704582 0.55709221]\n",
      " ...\n",
      " [0.84156729 0.70823551 0.59602784]\n",
      " [0.58943782 0.34743694 0.20479247]\n",
      " [0.60715503 0.36863723 0.22381994]]\n",
      "[[0.00136286]\n",
      " [0.00272572]\n",
      " [0.00204429]\n",
      " ...\n",
      " [0.00068143]\n",
      " [0.00272572]\n",
      " [0.00034072]]\n"
     ]
    }
   ],
   "source": [
    "x0 = add_polynomial_features(Xm[:,0], 2)\n",
    "x1 = add_polynomial_features(Xm[:,1], 3)\n",
    "x2 = add_polynomial_features(Xm[:,2], 1)\n",
    "print(x0)\n",
    "print(x1)\n",
    "print(x2)"
   ]
  },
  {
   "cell_type": "code",
   "execution_count": 9,
   "id": "ec60ecae",
   "metadata": {},
   "outputs": [
    {
     "name": "stdout",
     "output_type": "stream",
     "text": [
      "[[2.75979557e-02 7.61647159e-04 4.99488927e-01 2.49489188e-01\n",
      "  1.24617087e-01 1.36286201e-03]\n",
      " [9.19931857e-03 8.46274621e-05 6.95741056e-01 4.84055617e-01\n",
      "  3.36777366e-01 2.72572402e-03]\n",
      " [2.45315162e-02 6.01795286e-04 8.22827939e-01 6.77045817e-01\n",
      "  5.57092214e-01 2.04429302e-03]\n",
      " ...\n",
      " [6.13287905e-03 3.76122054e-05 8.41567291e-01 7.08235506e-01\n",
      "  5.96027836e-01 6.81431005e-04]\n",
      " [1.53321976e-02 2.35076284e-04 5.89437819e-01 3.47436943e-01\n",
      "  2.04792474e-01 2.72572402e-03]\n",
      " [0.00000000e+00 0.00000000e+00 6.07155026e-01 3.68637225e-01\n",
      "  2.23819944e-01 3.40715503e-04]]\n"
     ]
    }
   ],
   "source": [
    "Xl = np.c_[x0, x1, x2]\n",
    "print(Xl)"
   ]
  },
  {
   "cell_type": "code",
   "execution_count": 10,
   "id": "ff6cafd9",
   "metadata": {},
   "outputs": [],
   "source": [
    "clean_set = data_splitter(Xl, Ym, 0.80)\n",
    "Y_TRAIN = clean_set[2]\n",
    "X_TRAIN = clean_set[0]\n",
    "Y_TEST = clean_set[3]\n",
    "X_TEST = clean_set[1]"
   ]
  },
  {
   "cell_type": "code",
   "execution_count": 11,
   "id": "34a06410",
   "metadata": {},
   "outputs": [
    {
     "name": "stdout",
     "output_type": "stream",
     "text": [
      "theta : [[  -0.99971051]\n",
      " [  36.83763567]\n",
      " [-390.84967663]\n",
      " [   7.00095793]\n",
      " [ -13.02955734]\n",
      " [   7.32194514]\n",
      " [  -1.01530979]]\n",
      "4.4155276651179226e-05\n"
     ]
    }
   ],
   "source": [
    "myLR_f = MyLR([[0],[0],[0],[0],[0],[0],[0]])\n",
    "myLR_f.theta = myLR_f.normal_equation(X_TRAIN, Y_TRAIN)\n",
    "print(f\"theta : {myLR_f.theta}\")\n",
    "print(myLR_f.mse_(myLR_f.predict_(X_TEST), Y_TEST))"
   ]
  },
  {
   "cell_type": "code",
   "execution_count": 12,
   "id": "1f55e675",
   "metadata": {},
   "outputs": [
    {
     "ename": "IndentationError",
     "evalue": "unexpected indent (2294631247.py, line 2)",
     "output_type": "error",
     "traceback": [
      "\u001b[0;36m  File \u001b[0;32m\"/var/folders/zz/zyxvpxvq6csfxvn_n0004pzw0015qz/T/ipykernel_89285/2294631247.py\"\u001b[0;36m, line \u001b[0;32m2\u001b[0m\n\u001b[0;31m    myLR_f.plot_uni(X_TEST[:,2], Y_TEST, myLR_f.predict_(X_TEST), \"x1: prod_distance\", \"y: target(minmax normalization)\", \"target\", \"predicted target\", coly='green', colyh='lightgreen')\u001b[0m\n\u001b[0m    ^\u001b[0m\n\u001b[0;31mIndentationError\u001b[0m\u001b[0;31m:\u001b[0m unexpected indent\n"
     ]
    }
   ],
   "source": [
    "myLR_f.plot_uni(X_TEST[:,0], Y_TEST, myLR_f.predict_(X_TEST), \"x1: weight\", \"y: target(minmax normalization)\", \"target\", \"predicted target\")\n",
    "myLR_f.plot_uni(X_TEST[:,2], Y_TEST, myLR_f.predict_(X_TEST), \"x1: prod_distance\", \"y: target(minmax normalization)\", \"target\", \"predicted target\", coly='green', colyh='lightgreen')\n",
    "myLR_f.plot_uni(X_TEST[:,5], Y_TEST, myLR_f.predict_(X_TEST), \"x1: time_delivery\", \"y: target(minmax normalization)\", \"target\", \"predicted target\", coly='purple', colyh='#b19cd9')"
   ]
  }
 ],
 "metadata": {
  "interpreter": {
   "hash": "43e3f8fdc7562de3824f4a7e227e5686ea17a997d33a017a26e8ff705765704b"
  },
  "kernelspec": {
   "display_name": "Python 3.9.5 64-bit (conda)",
   "language": "python",
   "name": "python3"
  },
  "language_info": {
   "codemirror_mode": {
    "name": "ipython",
    "version": 3
   },
   "file_extension": ".py",
   "mimetype": "text/x-python",
   "name": "python",
   "nbconvert_exporter": "python",
   "pygments_lexer": "ipython3",
   "version": "3.9.5"
  }
 },
 "nbformat": 4,
 "nbformat_minor": 5
}
