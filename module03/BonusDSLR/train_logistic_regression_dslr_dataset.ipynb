{
 "cells": [
  {
   "cell_type": "code",
   "execution_count": 2,
   "metadata": {},
   "outputs": [],
   "source": [
    "from sys import prefix\n",
    "import pandas as pd\n",
    "import numpy as np\n",
    "import matplotlib.pyplot as plt\n",
    "import seaborn as sns\n",
    "from my_logistic_regression import MyLogisticRegression as MyLR\n",
    "from minmax import minmax\n",
    "from data_splitter_one_for_all import data_splitter_one_for_all_v2"
   ]
  },
  {
   "cell_type": "code",
   "execution_count": 4,
   "metadata": {},
   "outputs": [
    {
     "name": "stdout",
     "output_type": "stream",
     "text": [
      "   House_Gryffindor  House_Hufflepuff  House_Ravenclaw  House_Slytherin\n",
      "0                 0                 0                1                0\n",
      "1                 0                 0                0                1\n",
      "2                 0                 0                1                0\n",
      "3                 1                 0                0                0\n",
      "4                 1                 0                0                0\n",
      "      hand_Left  hand_Right  Arithmancy   Astronomy  Herbology  \\\n",
      "0             1           0     58384.0 -487.886086   5.727180   \n",
      "1             0           1     67239.0 -552.060507  -5.987446   \n",
      "2             1           0     23702.0 -366.076117   7.725017   \n",
      "3             1           0     32667.0  697.742809  -6.497214   \n",
      "4             1           0     60158.0  436.775204  -7.820623   \n",
      "...         ...         ...         ...         ...        ...   \n",
      "1595          0           1     49009.0  354.280086  -4.541837   \n",
      "1596          1           0     63296.0  367.531174   6.061064   \n",
      "1597          0           1     63905.0  544.018925  -3.203269   \n",
      "1598          1           0     82713.0  453.676219   3.442831   \n",
      "1599          1           0     48639.0  688.911989   5.421046   \n",
      "\n",
      "      Defense Against the Dark Arts  Divination  Muggle Studies  \\\n",
      "0                          4.878861       4.722      272.035831   \n",
      "1                          5.520605      -5.612     -487.340557   \n",
      "2                          3.660761       6.140      664.893521   \n",
      "3                         -6.977428       4.026     -537.001128   \n",
      "4                               NaN       2.236     -444.262537   \n",
      "...                             ...         ...             ...   \n",
      "1595                      -3.542801       5.702     -497.235066   \n",
      "1596                      -3.675312       1.757     -643.271092   \n",
      "1597                      -5.440189       6.065     -385.150457   \n",
      "1598                      -4.536762       6.738     -831.741123   \n",
      "1599                      -6.889120       6.593     -234.207911   \n",
      "\n",
      "      Ancient Runes  History of Magic  Transfiguration   Potions  \\\n",
      "0        532.484226          5.231058      1039.788281  3.790369   \n",
      "1        367.760303          4.107170      1058.944592  7.248742   \n",
      "2        602.585284          3.555579      1088.088348  8.728531   \n",
      "3        523.982133         -4.809637       920.391449  0.821911   \n",
      "4        599.324514         -3.444377       937.434724  4.311066   \n",
      "...             ...               ...              ...       ...   \n",
      "1595     618.220213         -5.231721       964.219853  3.389086   \n",
      "1596     445.827565          2.238112      1056.147366  5.825263   \n",
      "1597     635.211486         -5.984257       953.866685  1.709808   \n",
      "1598     383.444937          3.813111      1087.949205  3.904100   \n",
      "1599     339.775154          7.208415      1034.928004  2.052215   \n",
      "\n",
      "      Care of Magical Creatures     Charms  Flying  House_Gryffindor  \\\n",
      "0                      0.715939 -232.79405  -26.89                 0   \n",
      "1                      0.091674 -252.18425 -113.45                 0   \n",
      "2                     -0.515327 -227.34265   30.42                 0   \n",
      "3                     -0.014040 -256.84675  200.64                 1   \n",
      "4                     -0.264070 -256.38730  157.98                 1   \n",
      "...                         ...        ...     ...               ...   \n",
      "1595                  -0.649983 -250.39401  185.83                 1   \n",
      "1596                  -0.333962 -246.42719   44.80                 0   \n",
      "1597                   0.071569 -251.63679  198.47                 1   \n",
      "1598                  -0.531875 -246.19072  -76.81                 0   \n",
      "1599                   0.150532 -244.02063  -54.77                 0   \n",
      "\n",
      "      House_Hufflepuff  House_Ravenclaw  House_Slytherin Hogwarts House  \n",
      "0                    0                1                0      Ravenclaw  \n",
      "1                    0                0                1      Slytherin  \n",
      "2                    0                1                0      Ravenclaw  \n",
      "3                    0                0                0     Gryffindor  \n",
      "4                    0                0                0     Gryffindor  \n",
      "...                ...              ...              ...            ...  \n",
      "1595                 0                0                0     Gryffindor  \n",
      "1596                 0                0                1      Slytherin  \n",
      "1597                 0                0                0     Gryffindor  \n",
      "1598                 1                0                0     Hufflepuff  \n",
      "1599                 1                0                0     Hufflepuff  \n",
      "\n",
      "[1600 rows x 20 columns]\n"
     ]
    }
   ],
   "source": [
    "data_training = pd.read_csv(\"./datasets/dataset_train.csv\")\n",
    "#print(data_training)\n",
    "hand = pd.get_dummies(data_training['Best Hand'], prefix='hand')\n",
    "#print(hand.head())\n",
    "target = pd.get_dummies(data_training['Hogwarts House'], prefix='House')\n",
    "print(target.head())\n",
    "#final_target = data_training.iloc[:, 1:]\n",
    "#print(final_target.head())\n",
    "#clean_data = pd.concat()\n",
    "clean_data = pd.concat([hand, data_training[['Arithmancy','Astronomy','Herbology','Defense Against the Dark Arts','Divination','Muggle Studies','Ancient Runes','History of Magic','Transfiguration','Potions','Care of Magical Creatures','Charms','Flying']], target, data_training['Hogwarts House']], axis=1)\n",
    "#print(clean_data)\n",
    "\n",
    "sns.pairplot(data=clean_data['hand_Left', 'hand_Right', 'Arithmancy','Astronomy','Herbology','Defense Against the Dark Arts','Divination','Muggle Studies','Ancient Runes','History of Magic','Transfiguration','Potions','Care of Magical Creatures','Charms','Flying','Hogwarts House'], hue='Hogwarts House')\n",
    "plt.show()"
   ]
  }
 ],
 "metadata": {
  "interpreter": {
   "hash": "eab0a444a589959f66858a6f8ba980f747293a24873e94e7d9ed69a9aabf9416"
  },
  "kernelspec": {
   "display_name": "Python 3.7.9 64-bit ('shims': pyenv)",
   "language": "python",
   "name": "python3"
  },
  "language_info": {
   "codemirror_mode": {
    "name": "ipython",
    "version": 3
   },
   "file_extension": ".py",
   "mimetype": "text/x-python",
   "name": "python",
   "nbconvert_exporter": "python",
   "pygments_lexer": "ipython3",
   "version": "3.7.9"
  },
  "orig_nbformat": 4
 },
 "nbformat": 4,
 "nbformat_minor": 2
}
