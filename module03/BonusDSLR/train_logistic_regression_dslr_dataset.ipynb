{
 "cells": [
  {
   "cell_type": "code",
   "execution_count": 6,
   "metadata": {},
   "outputs": [],
   "source": [
    "from sys import prefix\n",
    "import pandas as pd\n",
    "import numpy as np\n",
    "import matplotlib.pyplot as plt\n",
    "import seaborn as sns\n",
    "from my_logistic_regression import MyLogisticRegression as MyLR\n",
    "from minmax import minmax"
   ]
  },
  {
   "cell_type": "code",
   "execution_count": 7,
   "metadata": {},
   "outputs": [
    {
     "name": "stdout",
     "output_type": "stream",
     "text": [
      "   hand_Left  hand_Right\n",
      "0          1           0\n",
      "1          0           1\n",
      "2          1           0\n",
      "3          1           0\n",
      "4          1           0\n",
      "   House_Gryffindor  House_Hufflepuff  House_Ravenclaw  House_Slytherin\n",
      "0                 0                 0                1                0\n",
      "1                 0                 0                0                1\n",
      "2                 0                 0                1                0\n",
      "3                 1                 0                0                0\n",
      "4                 1                 0                0                0\n"
     ]
    }
   ],
   "source": [
    "data_training = pd.read_csv(\"./datasets/dataset_train.csv\")\n",
    "#print(data_training)\n",
    "hand = pd.get_dummies(data_training['Best Hand'], prefix='hand')\n",
    "print(hand.head())\n",
    "target = pd.get_dummies(data_training['Hogwarts House'], prefix='House')\n",
    "print(target.head())\n",
    "#sns.pairplot(data=data_training[['']])\n",
    "\n"
   ]
  }
 ],
 "metadata": {
  "interpreter": {
   "hash": "eab0a444a589959f66858a6f8ba980f747293a24873e94e7d9ed69a9aabf9416"
  },
  "kernelspec": {
   "display_name": "Python 3.7.9 64-bit ('shims': pyenv)",
   "language": "python",
   "name": "python3"
  },
  "language_info": {
   "codemirror_mode": {
    "name": "ipython",
    "version": 3
   },
   "file_extension": ".py",
   "mimetype": "text/x-python",
   "name": "python",
   "nbconvert_exporter": "python",
   "pygments_lexer": "ipython3",
   "version": "3.7.9"
  },
  "orig_nbformat": 4
 },
 "nbformat": 4,
 "nbformat_minor": 2
}
